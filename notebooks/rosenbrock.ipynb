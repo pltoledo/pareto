{
 "cells": [
  {
   "cell_type": "code",
   "execution_count": 8,
   "metadata": {},
   "outputs": [],
   "source": [
    "import sys\n",
    "sys.path.append('../')"
   ]
  },
  {
   "cell_type": "code",
   "execution_count": 17,
   "metadata": {},
   "outputs": [
    {
     "name": "stdout",
     "output_type": "stream",
     "text": [
      "5\n"
     ]
    }
   ],
   "source": [
    "min, max = 4, 8\n",
    "var_os1 = 5\n",
    "var_os1 = max if var_os1 > max else min if var_os1 < min else var_os1\n",
    "print(var_os1)"
   ]
  },
  {
   "cell_type": "code",
   "execution_count": 1,
   "metadata": {},
   "outputs": [],
   "source": [
    "import numpy as np"
   ]
  },
  {
   "cell_type": "code",
   "execution_count": 2,
   "metadata": {},
   "outputs": [],
   "source": [
    "def tournament_selection(pop, n_candidates, n_champions=2):\n",
    "    champions = []\n",
    "    for l in range(n_champions):\n",
    "        tourn = np.random.choice(range(pop.shape[0]), size = n_candidates, replace = False)\n",
    "        candidates = pop[tourn, :]\n",
    "        champions.append(candidates[np.argsort(candidates[:, 2])][0, [0, 1]])\n",
    "    return champions"
   ]
  },
  {
   "cell_type": "code",
   "execution_count": 3,
   "metadata": {},
   "outputs": [],
   "source": [
    "def generate_pop(npop, nbits=10, bounds=[(-5, 5), (-5,  5)]):\n",
    "    pop = np.empty((npop, 3), dtype = 'object')\n",
    "\n",
    "    for i in range(npop):\n",
    "        pop[i, 0] = ''.join([str(j) for j in np.random.randint(0, 2, nbits)])\n",
    "        pop[i, 1] = ''.join([str(j) for j in np.random.randint(0, 2, nbits)])\n",
    "    return pop"
   ]
  },
  {
   "cell_type": "code",
   "execution_count": 6,
   "metadata": {},
   "outputs": [],
   "source": [
    "def decode(string, min, max):\n",
    "    value = int(string, 2)\n",
    "    return (((max - min) / (2**len(string) - 1)) * value) + min"
   ]
  },
  {
   "cell_type": "code",
   "execution_count": 4,
   "metadata": {},
   "outputs": [],
   "source": [
    "pop = generate_pop(20)"
   ]
  },
  {
   "cell_type": "code",
   "execution_count": 9,
   "metadata": {},
   "outputs": [],
   "source": [
    "from src.functions import base\n",
    "f = base"
   ]
  },
  {
   "cell_type": "code",
   "execution_count": 10,
   "metadata": {},
   "outputs": [],
   "source": [
    "for i in range(pop.shape[0]):\n",
    "    pop[i, 2] = f(decode(pop[i, 0], -5, 5), decode(pop[i, 1], -5, 5))"
   ]
  },
  {
   "cell_type": "code",
   "execution_count": 11,
   "metadata": {},
   "outputs": [
    {
     "data": {
      "text/plain": [
       "array([['0010001011', '0101100000', -1.84485752814355],\n",
       "       ['0110101011', '0110111000', 8.15980160089431],\n",
       "       ['1100111111', '1110111110', -1.4781655582815771],\n",
       "       ['0000011110', '0010100100', -0.7935489390286369],\n",
       "       ['0101001011', '0100011101', 1.0790658311390402],\n",
       "       ['1101011010', '1111110100', -0.5487938683240624],\n",
       "       ['1011111111', '0011001011', -1.7851750072098722],\n",
       "       ['0000010011', '0101011010', -1.8382409599050682],\n",
       "       ['1000010101', '1010011010', 6.5512328482318045],\n",
       "       ['1001010010', '1010011000', 5.854792934583767],\n",
       "       ['0110101001', '0101110100', 6.228877375440554],\n",
       "       ['1100001111', '1100100010', -1.744705008781652],\n",
       "       ['0101100010', '1000101110', 6.225709655547198],\n",
       "       ['1010100110', '0001011101', -2.1632994315284337],\n",
       "       ['0010101110', '1011111000', -1.992980113426527],\n",
       "       ['0111010101', '0000011001', -2.0908566880333233],\n",
       "       ['1011101011', '0010000001', -2.160744459521769],\n",
       "       ['0111010010', '1111000101', -2.1707496927911536],\n",
       "       ['1011010001', '0010001100', -2.053242220951439],\n",
       "       ['0001100000', '1000110110', -1.9924631946410623]], dtype=object)"
      ]
     },
     "execution_count": 11,
     "metadata": {},
     "output_type": "execute_result"
    }
   ],
   "source": [
    "pop"
   ]
  },
  {
   "cell_type": "code",
   "execution_count": 13,
   "metadata": {},
   "outputs": [
    {
     "data": {
      "text/plain": [
       "[array(['0111010101', '0000011001'], dtype=object),\n",
       " array(['0111010010', '1111000101'], dtype=object),\n",
       " array(['0001100000', '1000110110'], dtype=object),\n",
       " array(['0010101110', '1011111000'], dtype=object),\n",
       " array(['1011111111', '0011001011'], dtype=object)]"
      ]
     },
     "execution_count": 13,
     "metadata": {},
     "output_type": "execute_result"
    }
   ],
   "source": [
    "tournament_selection(pop, 2, 5)"
   ]
  }
 ],
 "metadata": {
  "kernelspec": {
   "display_name": "Python 3",
   "language": "python",
   "name": "python3"
  },
  "language_info": {
   "codemirror_mode": {
    "name": "ipython",
    "version": 3
   },
   "file_extension": ".py",
   "mimetype": "text/x-python",
   "name": "python",
   "nbconvert_exporter": "python",
   "pygments_lexer": "ipython3",
   "version": "3.8.5"
  }
 },
 "nbformat": 4,
 "nbformat_minor": 4
}
